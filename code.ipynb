{
  "nbformat": 4,
  "nbformat_minor": 0,
  "metadata": {
    "colab": {
      "name": "Assignment2MLDL.ipynb",
      "provenance": [],
      "collapsed_sections": []
    },
    "kernelspec": {
      "name": "python3",
      "display_name": "Python 3"
    },
    "accelerator": "GPU"
  },
  "cells": [
    {
      "cell_type": "markdown",
      "metadata": {
        "id": "c9QcGnGPdX2C"
      },
      "source": [
        "\n",
        "**Install requirements**"
      ]
    },
    {
      "cell_type": "code",
      "metadata": {
        "id": "k9O3aM3Tb28q"
      },
      "source": [
        "#!pip3 install 'torch==1.3.1'\n",
        "#!pip3 install 'torchvision==0.5.0'\n",
        "#!pip3 install 'Pillow-SIMD'\n",
        "#!pip3 install 'tqdm'"
      ],
      "execution_count": null,
      "outputs": []
    },
    {
      "cell_type": "markdown",
      "metadata": {
        "id": "fo942LMOdlh4"
      },
      "source": [
        "**Import libraries**"
      ]
    },
    {
      "cell_type": "code",
      "metadata": {
        "id": "DokFOdD1dJEl"
      },
      "source": [
        "import os\n",
        "import logging\n",
        "\n",
        "import torch\n",
        "import torch.nn as nn\n",
        "import torch.optim as optim\n",
        "from torch.utils.data import Subset, DataLoader\n",
        "from torch.backends import cudnn\n",
        "\n",
        "import torchvision\n",
        "from torchvision import transforms\n",
        "from torchvision.models import alexnet, resnet50, resnet18, vgg16\n",
        "\n",
        "from PIL import Image\n",
        "from tqdm import tqdm\n",
        "from sklearn.model_selection import StratifiedShuffleSplit\n",
        "\n",
        "\n",
        " \n",
        "\n"
      ],
      "execution_count": null,
      "outputs": []
    },
    {
      "cell_type": "markdown",
      "metadata": {
        "id": "OIDLJuIXK_vh"
      },
      "source": [
        "**Set Arguments**"
      ]
    },
    {
      "cell_type": "code",
      "metadata": {
        "id": "d5PkYfqfK_SA"
      },
      "source": [
        "DEVICE = 'cuda' # 'cuda' or 'cpu'\n",
        "\n",
        "NUM_CLASSES = 101 # 101 + 1: There is am extra Background class that should be removed \n",
        "\n",
        "BATCH_SIZE = 64    # Higher batch sizes allows for larger learning rates. An empirical heuristic suggests that, when changing\n",
        "                     # the batch size, learning rate should change by the same factor to have comparable results\n",
        "\n",
        "LR = 0.01   # The initial Learning Rate \n",
        "MOMENTUM = 0.9       # Hyperparameter for SGD, keep this at 0.9 when using SGD\n",
        "WEIGHT_DECAY = 5e-5  # Regularization, you can keep this at the default\n",
        "\n",
        "NUM_EPOCHS = 30     # Total number of training epochs (iterations over dataset)\n",
        "STEP_SIZE = 20 # How many epochs before decreasing learning rate (if using a step-down policy)\n",
        "GAMMA = 0.1          # Multiplicative factor for learning rate step-down\n",
        "\n",
        "LOG_FREQUENCY = 10\n",
        "NET= \"AlexNet\" #is it possible tho choose the net by changing the string. Allowed value vgg16, AlexNet, resnet18\n",
        "PRETRAINED= False #set to false to not upload weights\n",
        "FREEZE= 0  #set to 1 to freeze conv layers, to 2 to freeze fc layers\n",
        "ALGORITHM= 'SGD' #set to adam for adam optimizer\n",
        "AUGMENTATION = 0\n"
      ],
      "execution_count": null,
      "outputs": []
    },
    {
      "cell_type": "markdown",
      "metadata": {
        "id": "9gwii0TBHvzh"
      },
      "source": [
        "**Define Data Preprocessing**"
      ]
    },
    {
      "cell_type": "code",
      "metadata": {
        "id": "QUDdw4j2H0Mc"
      },
      "source": [
        "# Define transforms for training phase\n",
        "train_transform = transforms.Compose([transforms.Resize(256),      # Resizes short size of the PIL image to 256\n",
        "                                      transforms.CenterCrop(224),  # Crops a central square patch of the image\n",
        "                                                                   # 224 because torchvision's AlexNet needs a 224x224 input!\n",
        "                                                                   # Remember this when applying different transformations, otherwise you get an error\n",
        "                                     \n",
        "                                      transforms.ToTensor(), # Turn PIL Image to torch.Tensor\n",
        "                                      transforms.Normalize((0.5, 0.5, 0.5), (0.5, 0.5, 0.5)) # Normalizes tensor with mean and standard deviation\n",
        "\n",
        "])\n",
        "alexNet_transform = transforms.Compose([transforms.Resize(256),\n",
        "                                      transforms.CenterCrop(224),\n",
        "                                      transforms.ToTensor(),\n",
        "                                      transforms.Normalize((0.485, 0.456, 0.406), (0.229, 0.224, 0.225))\n",
        "                                            ])\n",
        "# Define transforms for the evaluation phase\n",
        "eval_transform = transforms.Compose([transforms.Resize(256),\n",
        "                                      transforms.CenterCrop(224),\n",
        "                                      transforms.ToTensor(),\n",
        "                                      transforms.Normalize((0.5, 0.5, 0.5), (0.5, 0.5, 0.5))                                    \n",
        "])\n",
        "\n",
        "dataAug_transform1 = transforms.Compose([transforms.Resize(256),\n",
        "                                         transforms.CenterCrop(224),\n",
        "                                         transforms.RandomVerticalFlip(),\n",
        "                                         #transforms.RandomRotation(45),\n",
        "                                         transforms.ColorJitter(brightness=0.5, contrast=0.5, saturation=0.5, hue=0.5),\n",
        "                                         transforms.ToTensor(),\n",
        "                                         transforms.Normalize((0.485, 0.456, 0.406), (0.229, 0.224, 0.225))])\n",
        "\n",
        "dataAug_transform2 = transforms.Compose([transforms.Resize(256),\n",
        "                                         transforms.RandomCrop(224),\n",
        "                                         transforms.RandomHorizontalFlip(p=0.7),\n",
        "                                         #transforms.RandomRotation(45),\n",
        "                                         #transforms.ColorJitter(brightness=0.5, contrast=0.5, saturation=0.5, hue=0.5),\n",
        "                                         transforms.ToTensor(),\n",
        "                                         transforms.Normalize((0.485, 0.456, 0.406), (0.229, 0.224, 0.225))])\n",
        "\n",
        "\n",
        "dataAug_transform3 = transforms.Compose([transforms.Resize(256),\n",
        "                                         transforms.CenterCrop(224),\n",
        "                                         transforms.RandomRotation(45),\n",
        "                                         transforms.ColorJitter(brightness=0.5, contrast=0.5, saturation=0.5, hue=0.5),\n",
        "                                         transforms.ToTensor(),\n",
        "                                         transforms.Normalize((0.485, 0.456, 0.406), (0.229, 0.224, 0.225))])\n",
        "\n",
        "\n",
        "\n"
      ],
      "execution_count": null,
      "outputs": []
    },
    {
      "cell_type": "markdown",
      "metadata": {
        "id": "2qYIHPzYLY7i"
      },
      "source": [
        "**Prepare Dataset**"
      ]
    },
    {
      "cell_type": "code",
      "metadata": {
        "id": "QfVq_uDHLbsR"
      },
      "source": [
        "from torchvision.datasets import VisionDataset\n",
        "from PIL import Image\n",
        "import os\n",
        "import os.path\n",
        "import sys\n",
        "import glob\n",
        "\n",
        "# Clone github repository with data\n",
        "if not os.path.isdir('./Caltech101'):\n",
        "  !git clone https://github.com/MachineLearning2020/Homework2-Caltech101.git\n",
        "  !mv 'Homework2-Caltech101' 'Caltech101'\n",
        "\n",
        "DATA_DIR = 'Caltech101/101_ObjectCategories'\n",
        "from Caltech101.caltech_dataset import Caltech\n",
        "\n",
        "def pil_loader(path):\n",
        "  \n",
        "  #path=path.rstrip(\"\\n\")\n",
        "  with open(path, 'rb') as f:\n",
        "    img=Image.open(f)\n",
        "    return img.convert('RGB')\n",
        "\n",
        "\n",
        "\n",
        "\n",
        "# pil_loader('Caltech101//101_ObjectCategories//accordion//image_0002.jpg')\n",
        "\n",
        "class Caltech(VisionDataset):\n",
        "    def __init__(self, root, split='train', transform=None, target_transform=None):\n",
        "        super(Caltech, self).__init__(root, transform=transform, target_transform=target_transform)\n",
        "\n",
        "        self.split = split\n",
        "        self.root = root\n",
        "        self.transform = transform\n",
        "        classes = os.listdir(root)\n",
        "        classes.remove('BACKGROUND_Google')\n",
        "        self.pathDataset = []\n",
        "        self.targets = []\n",
        "        self.intTargets = []\n",
        "        self.samples = [[], []]\n",
        "        self.instances = []\n",
        "        x = split + \".txt\"\n",
        "        dir = 'Caltech101/' + x\n",
        "        #print(\"------------------\", dir)\n",
        "        with open(dir, \"r\") as fp:\n",
        "            for line in fp:\n",
        "                cl = line.split('/')[0]\n",
        "                if cl != 'BACKGROUND_Google':\n",
        "                    #self.pathDataset.append(line)\n",
        "                    #self.targets.append(cl)\n",
        "                    self.intTargets.append(classes.index(cl))\n",
        "                    self.samples[0].append(line)\n",
        "                    self.samples[1].append(classes.index(cl))\n",
        "                    self.instances.append((line, classes.index(cl)))\n",
        "        #print(\"tuple---\", self.instances[0])\n",
        "        #print(classes.index('accordion'))\n",
        "        \n",
        "        print(\"samples di zero\", self.samples[0])\n",
        "        print(\"samples di uno\", self.samples[1])\n",
        "\n",
        "\n",
        "    def __getitem__(self, index):\n",
        "      #print(\"DATA DIR + INDEX\", DATA_DIR+\"/\"+self.datasetPath[0])\n",
        "      path= os.path.join(DATA_DIR,self.instances[index][0])\n",
        "      path=path.rstrip(\"\\n\")\n",
        "  \n",
        "      image = pil_loader(path)\n",
        "\n",
        "      label = self.instances[index][1]\n",
        " \n",
        "      if self.transform is not None:\n",
        "        image = self.transform(image)\n",
        "\n",
        "      return image, label\n",
        "\n",
        "    def __len__(self):\n",
        "      return len(self.instances)\n",
        "          \n",
        "          \n",
        "                \n",
        "\n",
        "# Prepare Pytorch train/test Datasets\n",
        "\n",
        "\n",
        "\n",
        "if NET =='AlexNet' and PRETRAINED == True:\n",
        "  if AUGMENTATION == 1:\n",
        "    train_dataset = Caltech(DATA_DIR, split='train', transform=train_transform)\n",
        "    train_aug=Caltech(DATA_DIR, split='train', transform=dataAug_transform1) #to apply data augmentation only on the training set and not on the validation\n",
        "    test_dataset = Caltech(DATA_DIR, split='test', transform=alexNet_transform)\n",
        "    print(\"first transformation applied\")\n",
        "  elif AUGMENTATION == 2:\n",
        "    train_dataset = Caltech(DATA_DIR, split='train', transform=train_transform)\n",
        "    train_aug=Caltech(DATA_DIR, split='train', transform=dataAug_transform2) #to apply data augmentation only on the training set and not on the validation\n",
        "    test_dataset = Caltech(DATA_DIR, split='test', transform=alexNet_transform)\n",
        "    print(\"second transformation applied\")\n",
        "  elif AUGMENTATION == 3:\n",
        "    train_dataset = Caltech(DATA_DIR, split='train', transform=train_transform)\n",
        "    train_aug=Caltech(DATA_DIR, split='train', transform=dataAug_transform3) #to apply data augmentation only on the training set and not on the validation\n",
        "    test_dataset = Caltech(DATA_DIR, split='test', transform=alexNet_transform)\n",
        "    print(\"third transformation applied\")\n",
        "  else:\n",
        "    train_dataset = Caltech(DATA_DIR, split='train', transform=alexNet_transform)\n",
        "    test_dataset = Caltech(DATA_DIR, split='test', transform=alexNet_transform)\n",
        "else:\n",
        "  train_dataset = Caltech(DATA_DIR, split='train', transform=train_transform)\n",
        "  test_dataset = Caltech(DATA_DIR, split='test', transform=eval_transform)\n",
        "\n",
        "\n",
        "print(\"get item di zero\",train_dataset.__getitem__(0))\n",
        "#print(\"test\",train_dataset.pathDataset[0])\n",
        "\n",
        "sss = StratifiedShuffleSplit(n_splits=1, test_size=0.5, random_state=0)\n",
        "\n",
        "train_indexes = [] # split the indices for your train split\n",
        "val_indexes = [] #split the indices for your val split\n",
        "\n",
        "for train, val in sss.split(train_dataset.samples[0], train_dataset.samples[1]):\n",
        "  print(\"train-----\",train)\n",
        "  print(\"test-----\",val)\n",
        "  train_indexes=train\n",
        "  val_indexes=val\n",
        "    \n",
        "\n",
        "\n",
        "\n",
        "print(\"val indices\", val_indexes)\n",
        "\n",
        "if AUGMENTATION !=0:\n",
        "  val_dataset = Subset(train_dataset, val_indexes)\n",
        "  train_dataset=Subset(train_aug, train_indexes) #when data augm is used\n",
        "  print(\"augmentation split\")\n",
        "else:\n",
        "   val_dataset = Subset(train_dataset, val_indexes)\n",
        "   train_dataset= Subset(train_dataset, train_indexes)\n",
        "\n",
        "\n",
        "print(\"final train dataset\", train_dataset)\n",
        "\n",
        "# Check dataset sizes\n",
        "print('Train Dataset: {}'.format(len(train_dataset)))\n",
        "print('Valid Dataset: {}'.format(len(val_dataset)))\n",
        "print('Test Dataset: {}'.format(len(test_dataset)))\n",
        "#print('train val Dataset: {}'.format(len(train_val_dataset)))"
      ],
      "execution_count": null,
      "outputs": []
    },
    {
      "cell_type": "markdown",
      "metadata": {
        "id": "yLfLjm42Ct_a"
      },
      "source": [
        "# New Section"
      ]
    },
    {
      "cell_type": "markdown",
      "metadata": {
        "id": "FYEDQ7Z21ldN"
      },
      "source": [
        "**Prepare Dataloaders**"
      ]
    },
    {
      "cell_type": "code",
      "metadata": {
        "id": "VriRw8SI1nle"
      },
      "source": [
        "# Dataloaders iterate over pytorch datasets and transparently provide useful functions (e.g. parallelization and shuffling)\n",
        "from torchvision import utils\n",
        "import matplotlib.pyplot as plt\n",
        "print(train_dataset[0])\n",
        "\n",
        "train_dataloader = DataLoader(train_dataset, batch_size=BATCH_SIZE, shuffle=True, num_workers=4, drop_last=True)\n",
        "val_dataloader = DataLoader(val_dataset, batch_size=BATCH_SIZE, shuffle=False, num_workers=4)\n",
        "#train_val_dataloader =  DataLoader(train_val_dataset, batch_size=BATCH_SIZE, shuffle=False, num_workers=4)\n",
        "\n",
        "\n",
        "test_dataloader = DataLoader(test_dataset, batch_size=BATCH_SIZE, shuffle=False, num_workers=4)\n",
        "\n",
        "#xb, yb = next(iter(train_dataloader))\n",
        "#out = torchvision.utils.make_grid(xb)\n",
        "#plt.imshow(out.numpy().transpose((1, 2, 0)))\n"
      ],
      "execution_count": null,
      "outputs": []
    },
    {
      "cell_type": "markdown",
      "metadata": {
        "id": "gbZ1t5Qs2z4j"
      },
      "source": [
        "**Prepare Network**"
      ]
    },
    {
      "cell_type": "code",
      "metadata": {
        "id": "exHUjtXa22DN",
        "outputId": "563200f7-1c3c-4650-ce7b-2fecb77a247a",
        "colab": {
          "base_uri": "https://localhost:8080/",
          "height": 476
        }
      },
      "source": [
        "if NET == \"AlexNet\" :\n",
        "  net= alexnet(pretrained=PRETRAINED)\n",
        "  net.classifier[6] = nn.Linear(4096, NUM_CLASSES)\n",
        "elif NET == \"resnet18\":\n",
        "  net = resnet18(pretrained=True)\n",
        "  net.fc.out_features= NUM_CLASSES\n",
        "elif NET == \"vgg16\":\n",
        "  net= vgg16(pretrained=True)\n",
        "  net.classifier[6] = nn.Linear(4096, NUM_CLASSES)\n",
        "\n",
        "\n",
        "#net = alexnet() # Loading AlexNet model\n",
        "#net= alexnet(pretrained=True)\n",
        "#for param in net.classifier.parameters():\n",
        "  #param.requires_grad= False\n",
        "#net = resnet18(pretrained=True)\n",
        "\n",
        "#net= vgg16(pretrained=True)\n",
        "\n",
        "\n",
        "# AlexNet has 1000 output neurons, corresponding to the 1000 ImageNet's classes\n",
        "# We need 101 outputs for Caltech-101\n",
        "#net.classifier[6] = nn.Linear(4096, NUM_CLASSES) # nn.Linear in pytorch is a fully connected layer\n",
        "                                                 # The convolutional layer is nn.Conv2d\n",
        "#alexnet.classifier[6] = nn.Linear(4096, NUM_CLASSES)\n",
        "#net.fc.out_features= NUM_CLASSES\n",
        "print(net)\n",
        "\n",
        "# We just changed the last layer of AlexNet with a new fully connected layer with 101 outputs\n",
        "# It is strongly suggested to study torchvision.models.alexnet source code"
      ],
      "execution_count": null,
      "outputs": [
        {
          "output_type": "stream",
          "text": [
            "AlexNet(\n",
            "  (features): Sequential(\n",
            "    (0): Conv2d(3, 64, kernel_size=(11, 11), stride=(4, 4), padding=(2, 2))\n",
            "    (1): ReLU(inplace=True)\n",
            "    (2): MaxPool2d(kernel_size=3, stride=2, padding=0, dilation=1, ceil_mode=False)\n",
            "    (3): Conv2d(64, 192, kernel_size=(5, 5), stride=(1, 1), padding=(2, 2))\n",
            "    (4): ReLU(inplace=True)\n",
            "    (5): MaxPool2d(kernel_size=3, stride=2, padding=0, dilation=1, ceil_mode=False)\n",
            "    (6): Conv2d(192, 384, kernel_size=(3, 3), stride=(1, 1), padding=(1, 1))\n",
            "    (7): ReLU(inplace=True)\n",
            "    (8): Conv2d(384, 256, kernel_size=(3, 3), stride=(1, 1), padding=(1, 1))\n",
            "    (9): ReLU(inplace=True)\n",
            "    (10): Conv2d(256, 256, kernel_size=(3, 3), stride=(1, 1), padding=(1, 1))\n",
            "    (11): ReLU(inplace=True)\n",
            "    (12): MaxPool2d(kernel_size=3, stride=2, padding=0, dilation=1, ceil_mode=False)\n",
            "  )\n",
            "  (avgpool): AdaptiveAvgPool2d(output_size=(6, 6))\n",
            "  (classifier): Sequential(\n",
            "    (0): Dropout(p=0.5, inplace=False)\n",
            "    (1): Linear(in_features=9216, out_features=4096, bias=True)\n",
            "    (2): ReLU(inplace=True)\n",
            "    (3): Dropout(p=0.5, inplace=False)\n",
            "    (4): Linear(in_features=4096, out_features=4096, bias=True)\n",
            "    (5): ReLU(inplace=True)\n",
            "    (6): Linear(in_features=4096, out_features=101, bias=True)\n",
            "  )\n",
            ")\n"
          ],
          "name": "stdout"
        }
      ]
    },
    {
      "cell_type": "markdown",
      "metadata": {
        "id": "KEyL3H_R4qCf"
      },
      "source": [
        "**Prepare Training**"
      ]
    },
    {
      "cell_type": "code",
      "metadata": {
        "id": "9sjq00G94tSc"
      },
      "source": [
        "## Define loss function\n",
        "criterion = nn.CrossEntropyLoss() # for classification, we use Cross Entropy\n",
        "\n",
        "# Choose parameters to optimize\n",
        "# To access a different set of parameters, you have to access submodules of AlexNet\n",
        "# (nn.Module objects, like AlexNet, implement the Composite Pattern)\n",
        "# e.g.: parameters of the fully connected layers: net.classifier.parameters()\n",
        "# e.g.: parameters of the convolutional layers: look at alexnet's source code ;)\n",
        "\n",
        "if FREEZE == 0:\n",
        "  parameters_to_optimize = net.parameters() # In this case we optimize over all the parameters of AlexNet\n",
        "\n",
        "elif FREEZE == 1:\n",
        "  parameters_to_optimize= net.classifier.parameters()  # we  freeze conv layers\n",
        "  \n",
        "\n",
        "elif FREEZE == 2:\n",
        "  parameters_to_optimize = net.features.parameters() # we freeze FC layers\n",
        "  \n",
        "\n",
        "\n",
        "# Define optimizer\n",
        "# An optimizer updates the weights based on loss\n",
        "# We use SGD with momentum\n",
        "if ALGORITHM =='SGD':\n",
        "  optimizer = optim.SGD(parameters_to_optimize, lr=LR, momentum=MOMENTUM, weight_decay=WEIGHT_DECAY)\n",
        "elif ALGORITHM == 'adam':\n",
        "  optimizer=optim.Adam(parameters_to_optimize, lr=LR, weight_decay=WEIGHT_DECAY)\n",
        "# Define scheduler\n",
        "# A scheduler dynamically changes learning rate\n",
        "# The most common schedule is the step(-down), which multiplies learning rate by gamma every STEP_SIZE epochs\n",
        "scheduler = optim.lr_scheduler.StepLR(optimizer, step_size=STEP_SIZE, gamma=GAMMA)"
      ],
      "execution_count": null,
      "outputs": []
    },
    {
      "cell_type": "markdown",
      "metadata": {
        "id": "AxYUli9d9uYQ"
      },
      "source": [
        "**Train**"
      ]
    },
    {
      "cell_type": "code",
      "metadata": {
        "id": "ZcoQ5fD49yT_"
      },
      "source": [
        "# By default, everything is loaded to cpu\n",
        "net = net.to(DEVICE) # this will bring the network to GPU if DEVICE is cuda\n",
        "#alexnet= alexnet.to(DEVICE)\n",
        "\n",
        "cudnn.benchmark # Calling this optimizes runtime\n",
        "accuracy_train=[]\n",
        "accuracy_val=[]\n",
        "loss_train=[]\n",
        "loss_val=[]\n",
        "\n",
        "current_step = 0\n",
        "# Start iterating over the epochs\n",
        "for epoch in range(NUM_EPOCHS):\n",
        "  print('Starting epoch {}/{}, LR = {}'.format(epoch+1, NUM_EPOCHS, scheduler.get_lr()))\n",
        " \n",
        "  # Iterate over the dataset\n",
        "  running_corrects=0\n",
        "  for images, labels in train_dataloader:\n",
        "    \n",
        "    # Bring data over the device of choice\n",
        "    images = images.to(DEVICE)\n",
        "    labels = labels.to(DEVICE)\n",
        "    \n",
        "    net.train() # Sets module in training mode\n",
        "\n",
        "    # PyTorch, by default, accumulates gradients after each backward pass\n",
        "    # We need to manually set the gradients to zero before starting a new iteration\n",
        "    optimizer.zero_grad() # Zero-ing the gradients\n",
        "\n",
        "    # Forward pass to the network\n",
        "    outputs_training = net(images)\n",
        "    #print(\"outputs.data\", outputs_training.data[0])\n",
        "\n",
        "    _, preds = torch.max(outputs_training.data, 1)\n",
        "    running_corrects += torch.sum(preds == labels.data).data.item()\n",
        "\n",
        "\n",
        "   # Compute loss based on output and ground truth\n",
        "    loss = criterion(outputs_training, labels)\n",
        "\n",
        "   \n",
        "   \n",
        "\n",
        "    # Log loss\n",
        "    if current_step % LOG_FREQUENCY == 0:\n",
        "      print('Step {}, Loss {}'.format(current_step, loss.item()))\n",
        "  \n",
        "\n",
        "    # Compute gradients for each layer and update weights\n",
        "    loss.backward()  # backward pass: computes gradients\n",
        "    optimizer.step() # update weights based on accumulated gradients\n",
        "\n",
        "    current_step += 1\n",
        "\n",
        "  accuracy= running_corrects / float(len(train_dataset))\n",
        "  loss_train.append(loss.item())\n",
        "  accuracy_train.append(accuracy)\n",
        "\n",
        "  net.train(False)\n",
        "  running_corrects = 0\n",
        "  for images, labels in tqdm(val_dataloader):\n",
        "\n",
        "    images = images.to(DEVICE)\n",
        "    labels = labels.to(DEVICE)\n",
        "\n",
        "      # Forward Pass\n",
        "    outputs = net(images)\n",
        "    \n",
        "      # Get predictions\n",
        "    _, preds = torch.max(outputs.data, 1)\n",
        "   \n",
        "\n",
        "      # Update Corrects\n",
        "    x= torch.sum(preds == labels.data).data.item()\n",
        "    print(x)\n",
        "    running_corrects += x\n",
        "\n",
        "    \n",
        "\n",
        "    loss=criterion(outputs.data,labels)\n",
        "  \n",
        "\n",
        "    # Calculate Accuracy\n",
        "  accuracy = running_corrects / float(len(test_dataset))\n",
        "  accuracy_val.append(accuracy)\n",
        " \n",
        "  loss_val.append(loss.item())\n",
        "\n",
        "\n",
        "  # Step the scheduler\n",
        "  scheduler.step() \n",
        " "
      ],
      "execution_count": null,
      "outputs": []
    },
    {
      "cell_type": "code",
      "metadata": {
        "id": "xPRnb8zk8c1v"
      },
      "source": [
        ""
      ],
      "execution_count": null,
      "outputs": []
    },
    {
      "cell_type": "markdown",
      "metadata": {
        "id": "UsHFI-GAJd69"
      },
      "source": [
        "**Validation**"
      ]
    },
    {
      "cell_type": "code",
      "metadata": {
        "id": "EO3HV5pqJg1o"
      },
      "source": [
        "net = net.to(DEVICE) # this will bring the network to GPU if DEVICE is cuda\n",
        "net.eval() # Set Network to evaluation mode\n",
        "#alexet = alexnet.to(DEVICE)\n",
        "#alexnet.eval()\n",
        "criterion1 = nn.CrossEntropyLoss(size_average=False)\n",
        "\n",
        "running_corrects = 0\n",
        "running_loss=0\n",
        "for images, labels in tqdm(val_dataloader):\n",
        "  images = images.to(DEVICE)\n",
        "  labels = labels.to(DEVICE)\n",
        "\n",
        "  # Forward Pass\n",
        "  outputs = net(images)\n",
        "\n",
        "  # Get predictions\n",
        "  _, preds = torch.max(outputs.data, 1)\n",
        "\n",
        "  # Update Corrects\n",
        "  running_corrects += torch.sum(preds == labels.data).data.item()\n",
        "  loss= criterion1(outputs.data,labels)\n",
        "  \n",
        "  running_loss += loss.item()\n",
        "\n",
        "# Calculate Accuracy\n",
        "accuracy = running_corrects / float(len(test_dataset))\n",
        "lossval= running_loss/ len(val_dataset)\n",
        "val accuracy [0.09194607673695127, 0.10127894918769444, 0.18216384376080194, 0.21776702385067404, 0.23608710680954026, 0.22813688212927757, 0.24680262703076392, 0.2799861735222952, 0.32042862080884893, 0.3435879709643968, 0.3840304182509506, 0.39405461458693397, 0.39854821984099553, 0.44071897684064987, 0.44866920152091255, 0.4742481852748012, 0.49982716902868995, 0.4787417905288628, 0.511925337020394, 0.5070860698237124, 0.538195644659523, 0.5475285171102662, 0.5551330798479087, 0.5506394745938472, 0.5437262357414449, 0.5513307984790875, 0.5523677843069478, 0.5461458693397857, 0.5471828551676461, 0.5492568268233667]\n",
        "\n",
        "print(len(accuracy_train))\n",
        "print(len(accuracy_val))\n",
        "print(len(loss_train))\n",
        "print(len(loss_val))\n",
        "#print(\"loss val\", loss_val)\n",
        "#print(\"loss train\", loss_train)\n",
        "print('Validation Accuracy: {}'.format(accuracy))\n",
        "import matplotlib.pyplot as plt\n",
        "print(\"val accuracy\", accuracy_val)\n",
        "print(\"loss validation\", lossval)\n",
        "#print(\"trining accuracy\", accuracy_train)\n",
        "print(\"trainin accuracy\", accuracy_train[NUM_EPOCHS-1])\n",
        "print(\"loss train\", loss_train[NUM_EPOCHS-1])\n",
        "\n",
        "\n",
        "\n",
        "\n",
        "plt.figure(figsize=(8, 8))\n",
        "plt.subplot(2, 1, 1)\n",
        "plt.plot(accuracy_train, label='Training Accuracy')\n",
        "plt.plot(accuracy_val, label='Validation Accuracy')\n",
        "plt.legend(loc='lower right')\n",
        "plt.ylabel('Accuracy')\n",
        "#plt.ylim([min(plt.ylim()),1])\n",
        "plt.title('Training and Validation Accuracy')\n",
        "\n",
        "\n",
        "plt.subplot(2, 1, 2)\n",
        "plt.plot(loss_train, label='Training Loss')\n",
        "plt.plot(loss_val, label='Validation Loss')\n",
        "plt.legend(loc='upper right')\n",
        "plt.ylabel('Loss')\n",
        "#plt.ylim([0,1.0])\n",
        "plt.title('Training and Validation Loss')\n",
        "plt.xlabel('epoch')\n",
        "plt.show()\n",
        "\n",
        "\n",
        "#plt.plot(loss_train, linestyle='-', marker='o')\n",
        "#plt.plot(loss_val, linestyle='-', marker='o')\n",
        "#plt.title('loss accuracy')\n",
        "#plt.ylabel('Loss')\n",
        "#plt.xlabel('Epoch')\n",
        "\n",
        "#plt.legend(['Train', 'Val'], loc='upper right')\n",
        "\n",
        "#plt.show"
      ],
      "execution_count": null,
      "outputs": []
    },
    {
      "cell_type": "markdown",
      "metadata": {
        "id": "jxekmR745ySe"
      },
      "source": [
        "**Test**"
      ]
    },
    {
      "cell_type": "code",
      "metadata": {
        "id": "fSHcUqLB5yWO",
        "outputId": "0b06f85c-d6d4-4687-917c-3dec0337ffce",
        "colab": {
          "base_uri": "https://localhost:8080/",
          "height": 51
        }
      },
      "source": [
        "net = net.to(DEVICE) # this will bring the network to GPU if DEVICE is cuda\n",
        "net.train(False) # Set Network to evaluation mode\n",
        "\n",
        "running_corrects = 0\n",
        "for images, labels in tqdm(test_dataloader):\n",
        "  images = images.to(DEVICE)\n",
        "  labels = labels.to(DEVICE)\n",
        "\n",
        "  # Forward Pass\n",
        "  outputs = net(images)\n",
        "\n",
        "  # Get predictions\n",
        "  _, preds = torch.max(outputs.data, 1)\n",
        "\n",
        "  # Update Corrects\n",
        "  running_corrects += torch.sum(preds == labels.data).data.item()\n",
        "\n",
        "# Calculate Accuracy\n",
        "accuracy = running_corrects / float(len(test_dataset))\n",
        "\n",
        "print('Test Accuracy: {}'.format(accuracy))"
      ],
      "execution_count": null,
      "outputs": [
        {
          "output_type": "stream",
          "text": [
            "100%|██████████| 46/46 [00:12<00:00,  3.54it/s]"
          ],
          "name": "stderr"
        },
        {
          "output_type": "stream",
          "text": [
            "Test Accuracy: 0.5506394745938472\n"
          ],
          "name": "stdout"
        },
        {
          "output_type": "stream",
          "text": [
            "\n"
          ],
          "name": "stderr"
        }
      ]
    }
  ]
}